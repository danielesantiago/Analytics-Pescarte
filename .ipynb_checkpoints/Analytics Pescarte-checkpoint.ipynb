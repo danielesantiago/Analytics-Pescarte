{
 "cells": [
  {
   "cell_type": "markdown",
   "id": "7d2a2a5c",
   "metadata": {},
   "source": [
    "## Analytics Pescarte"
   ]
  },
  {
   "cell_type": "markdown",
   "id": "29111625",
   "metadata": {},
   "source": [
    "O Projeto PESCARTE tem como sua principal finalidade a criação de uma rede social regional integrada por pescadores artesanais e por seus familiares, buscando, por meio de processos educativos, promover, fortalecer e aperfeiçoar a sua organização comunitária e a sua qualificação profissional, bem como o seu envolvimento na construção participativa e na implementação de projetos de geração de trabalho e renda.\n",
    "\n",
    "Por meio do Projeto PESCARTE as comunidades pesqueiras que vivem nos municípios de Arraial do Cabo, Cabo Frio, Macaé, Quissamã, Campos dos Goytacazes, São João da Barra e São Francisco de Itabapoana são mobilizadas, incentivadas e orientadas a participar de diferentes ações e/ou atividades de natureza educativa. São ações e/ou atividades, cuja realização tem como objetivos: aperfeiçoar a atuação profissional dessas comunidades, na perspectiva, seja da ampliação de sua produtividade, seja para poder melhor se organizar e realizar atividades econômicas solidárias.\n",
    "\n",
    "<img src = \"http://www.pea-bc.ibp.org.br/arquivos/projetos/logo_maior/6_logopescarte_228x228.jpg\" width = \"40%\">\n",
    "\n",
    "Dentro do projeto, foi desenvolvido um **aplicativo de cotação de pescado** por estudantes da UFSCar. Posteriormente, um minicurso sobre a utilização da plataforma foi conduzido em Búzios - RJ. O objetivo do Analytics é obter insights da experiência do usuário em relação ao aplicativo."
   ]
  },
  {
   "cell_type": "code",
   "execution_count": 26,
   "id": "6150faab",
   "metadata": {},
   "outputs": [],
   "source": [
    "import pandas as pd\n",
    "import matplotlib.pyplot as plt\n",
    "import seaborn as sns"
   ]
  },
  {
   "cell_type": "markdown",
   "id": "2a9a0da8",
   "metadata": {},
   "source": [
    "### Questionário de Avaliação\n",
    "\n",
    "* 1. Em uma escala de 1 a 5, o quão fácil foi acessar e navegar no aplicativo de cotações Pescarte? (1 = Muito difícil, 5 = Muito fácil)\n",
    "\n",
    "* 2. Em uma escala de 1 a 5, o quão fácil foi selecionar a fonte de dados na base? (1 = Muito difícil, 5 = Muito fácil)\n",
    "\n",
    "* 3. Em uma escala de 1 a 5, o quão fácil foi definir o período de consulta? (1 = Muito difícil, 5 = Muito fácil)\n",
    "\n",
    "\n",
    "* 4. Em uma escala de 1 a 5, o quão fácil foi selecionar os pescados de interesse? (1 = Muito difícil, 5 = Muito fácil)\n",
    "\n",
    "* 5. Em uma escala de 1 a 5, o quão útil foi a funcionalidade de pesquisa de peixes? (1 = Nada útil, 5 = Muito útil)\n",
    "\n",
    "\n",
    "\n",
    "* 6. Em uma escala de 1 a 5, o quão fácil foi exportar os dados em formato CSV? (1 = Muito difícil, 5 = Muito fácil) (OBS: Essa pergunta foi descartada durante avaliação)\n",
    "\n",
    "\n",
    "* 7. Qual é o seu nível geral de satisfação com o aplicativo de cotações Pescarte? (1 = Muito insatisfeito, 5 = Muito satisfeito)\n",
    "\n",
    "* 8. Você recomendaria o aplicativo de cotações Pescarte para outros pescadores? ( ) Sim ( ) Não\n",
    "\n",
    "\n",
    "* 9. Quais melhorias você sugeriria para o aplicativo de cotações Pescarte?\n",
    "\n",
    "* 10. Você encontrou algum problema ou dificuldade ao usar o aplicativo de cotações Pescarte? Se sim, por favor, descreva.\n",
    "\n",
    "\n",
    "* 11. Você gostaria de compartilhar algum comentário adicional sobre sua experiência com o aplicativo de cotações Pescarte?\n"
   ]
  },
  {
   "cell_type": "markdown",
   "id": "e0d6d501",
   "metadata": {},
   "source": [
    "### Dados quantitativos"
   ]
  },
  {
   "cell_type": "code",
   "execution_count": 27,
   "id": "0af288a7",
   "metadata": {},
   "outputs": [],
   "source": [
    "df = pd.read_csv(\"base.csv\", sep = ';')"
   ]
  },
  {
   "cell_type": "code",
   "execution_count": 28,
   "id": "d0c616fe",
   "metadata": {},
   "outputs": [
    {
     "data": {
      "text/html": [
       "<div>\n",
       "<style scoped>\n",
       "    .dataframe tbody tr th:only-of-type {\n",
       "        vertical-align: middle;\n",
       "    }\n",
       "\n",
       "    .dataframe tbody tr th {\n",
       "        vertical-align: top;\n",
       "    }\n",
       "\n",
       "    .dataframe thead th {\n",
       "        text-align: right;\n",
       "    }\n",
       "</style>\n",
       "<table border=\"1\" class=\"dataframe\">\n",
       "  <thead>\n",
       "    <tr style=\"text-align: right;\">\n",
       "      <th></th>\n",
       "      <th>Acessar e Navegar</th>\n",
       "      <th>Selecionar Fonte</th>\n",
       "      <th>Definir Período</th>\n",
       "      <th>Selecionar Pescados</th>\n",
       "      <th>Utilidade</th>\n",
       "      <th>Exportar Dados</th>\n",
       "      <th>Satisfação</th>\n",
       "      <th>Recomendação</th>\n",
       "    </tr>\n",
       "  </thead>\n",
       "  <tbody>\n",
       "    <tr>\n",
       "      <th>0</th>\n",
       "      <td>5</td>\n",
       "      <td>5</td>\n",
       "      <td>5</td>\n",
       "      <td>5</td>\n",
       "      <td>5</td>\n",
       "      <td>5.0</td>\n",
       "      <td>5</td>\n",
       "      <td>Sim</td>\n",
       "    </tr>\n",
       "    <tr>\n",
       "      <th>1</th>\n",
       "      <td>3</td>\n",
       "      <td>3</td>\n",
       "      <td>3</td>\n",
       "      <td>3</td>\n",
       "      <td>4</td>\n",
       "      <td>NaN</td>\n",
       "      <td>4</td>\n",
       "      <td>Sim</td>\n",
       "    </tr>\n",
       "    <tr>\n",
       "      <th>2</th>\n",
       "      <td>3</td>\n",
       "      <td>3</td>\n",
       "      <td>3</td>\n",
       "      <td>3</td>\n",
       "      <td>4</td>\n",
       "      <td>NaN</td>\n",
       "      <td>5</td>\n",
       "      <td>Sim</td>\n",
       "    </tr>\n",
       "    <tr>\n",
       "      <th>3</th>\n",
       "      <td>5</td>\n",
       "      <td>5</td>\n",
       "      <td>4</td>\n",
       "      <td>4</td>\n",
       "      <td>5</td>\n",
       "      <td>NaN</td>\n",
       "      <td>5</td>\n",
       "      <td>Sim</td>\n",
       "    </tr>\n",
       "    <tr>\n",
       "      <th>4</th>\n",
       "      <td>5</td>\n",
       "      <td>5</td>\n",
       "      <td>5</td>\n",
       "      <td>5</td>\n",
       "      <td>5</td>\n",
       "      <td>NaN</td>\n",
       "      <td>5</td>\n",
       "      <td>Sim</td>\n",
       "    </tr>\n",
       "  </tbody>\n",
       "</table>\n",
       "</div>"
      ],
      "text/plain": [
       "   Acessar e Navegar  Selecionar Fonte  Definir Período  Selecionar Pescados  \\\n",
       "0                  5                 5                5                    5   \n",
       "1                  3                 3                3                    3   \n",
       "2                  3                 3                3                    3   \n",
       "3                  5                 5                4                    4   \n",
       "4                  5                 5                5                    5   \n",
       "\n",
       "   Utilidade  Exportar Dados  Satisfação Recomendação  \n",
       "0          5             5.0           5          Sim  \n",
       "1          4             NaN           4          Sim  \n",
       "2          4             NaN           5          Sim  \n",
       "3          5             NaN           5          Sim  \n",
       "4          5             NaN           5          Sim  "
      ]
     },
     "execution_count": 28,
     "metadata": {},
     "output_type": "execute_result"
    }
   ],
   "source": [
    "# Exibir as cinco primeiras entradas\n",
    "df.head()"
   ]
  },
  {
   "cell_type": "code",
   "execution_count": 29,
   "id": "cf725e4e",
   "metadata": {},
   "outputs": [
    {
     "data": {
      "text/plain": [
       "(9, 8)"
      ]
     },
     "execution_count": 29,
     "metadata": {},
     "output_type": "execute_result"
    }
   ],
   "source": [
    "df.shape"
   ]
  },
  {
   "cell_type": "markdown",
   "id": "4900b14f",
   "metadata": {},
   "source": [
    "Obtivemos 9 respostas de pescadoras da região. É possível notar que a coluna `Exportar Dados` possui valores nulos. Isto é porque identificamos que a funcionalidade não iria ser facilmente assimilada pelas usuárias. Irei remover essa coluna da análise."
   ]
  },
  {
   "cell_type": "code",
   "execution_count": 30,
   "id": "58c7f3c9",
   "metadata": {},
   "outputs": [],
   "source": [
    "df.drop(columns = ['Exportar Dados'], axis = 1, inplace = True)"
   ]
  },
  {
   "cell_type": "code",
   "execution_count": 31,
   "id": "5c802459",
   "metadata": {
    "scrolled": true
   },
   "outputs": [
    {
     "data": {
      "text/html": [
       "<div>\n",
       "<style scoped>\n",
       "    .dataframe tbody tr th:only-of-type {\n",
       "        vertical-align: middle;\n",
       "    }\n",
       "\n",
       "    .dataframe tbody tr th {\n",
       "        vertical-align: top;\n",
       "    }\n",
       "\n",
       "    .dataframe thead th {\n",
       "        text-align: right;\n",
       "    }\n",
       "</style>\n",
       "<table border=\"1\" class=\"dataframe\">\n",
       "  <thead>\n",
       "    <tr style=\"text-align: right;\">\n",
       "      <th></th>\n",
       "      <th>Acessar e Navegar</th>\n",
       "      <th>Selecionar Fonte</th>\n",
       "      <th>Definir Período</th>\n",
       "      <th>Selecionar Pescados</th>\n",
       "      <th>Utilidade</th>\n",
       "      <th>Satisfação</th>\n",
       "    </tr>\n",
       "  </thead>\n",
       "  <tbody>\n",
       "    <tr>\n",
       "      <th>count</th>\n",
       "      <td>9.000000</td>\n",
       "      <td>9.000000</td>\n",
       "      <td>9.000000</td>\n",
       "      <td>9.000000</td>\n",
       "      <td>9.000000</td>\n",
       "      <td>9.000000</td>\n",
       "    </tr>\n",
       "    <tr>\n",
       "      <th>mean</th>\n",
       "      <td>4.333333</td>\n",
       "      <td>4.444444</td>\n",
       "      <td>4.333333</td>\n",
       "      <td>4.444444</td>\n",
       "      <td>4.666667</td>\n",
       "      <td>4.888889</td>\n",
       "    </tr>\n",
       "    <tr>\n",
       "      <th>std</th>\n",
       "      <td>0.866025</td>\n",
       "      <td>0.881917</td>\n",
       "      <td>0.866025</td>\n",
       "      <td>0.881917</td>\n",
       "      <td>0.500000</td>\n",
       "      <td>0.333333</td>\n",
       "    </tr>\n",
       "    <tr>\n",
       "      <th>min</th>\n",
       "      <td>3.000000</td>\n",
       "      <td>3.000000</td>\n",
       "      <td>3.000000</td>\n",
       "      <td>3.000000</td>\n",
       "      <td>4.000000</td>\n",
       "      <td>4.000000</td>\n",
       "    </tr>\n",
       "    <tr>\n",
       "      <th>25%</th>\n",
       "      <td>4.000000</td>\n",
       "      <td>4.000000</td>\n",
       "      <td>4.000000</td>\n",
       "      <td>4.000000</td>\n",
       "      <td>4.000000</td>\n",
       "      <td>5.000000</td>\n",
       "    </tr>\n",
       "    <tr>\n",
       "      <th>50%</th>\n",
       "      <td>5.000000</td>\n",
       "      <td>5.000000</td>\n",
       "      <td>5.000000</td>\n",
       "      <td>5.000000</td>\n",
       "      <td>5.000000</td>\n",
       "      <td>5.000000</td>\n",
       "    </tr>\n",
       "    <tr>\n",
       "      <th>75%</th>\n",
       "      <td>5.000000</td>\n",
       "      <td>5.000000</td>\n",
       "      <td>5.000000</td>\n",
       "      <td>5.000000</td>\n",
       "      <td>5.000000</td>\n",
       "      <td>5.000000</td>\n",
       "    </tr>\n",
       "    <tr>\n",
       "      <th>max</th>\n",
       "      <td>5.000000</td>\n",
       "      <td>5.000000</td>\n",
       "      <td>5.000000</td>\n",
       "      <td>5.000000</td>\n",
       "      <td>5.000000</td>\n",
       "      <td>5.000000</td>\n",
       "    </tr>\n",
       "  </tbody>\n",
       "</table>\n",
       "</div>"
      ],
      "text/plain": [
       "       Acessar e Navegar  Selecionar Fonte  Definir Período  \\\n",
       "count           9.000000          9.000000         9.000000   \n",
       "mean            4.333333          4.444444         4.333333   \n",
       "std             0.866025          0.881917         0.866025   \n",
       "min             3.000000          3.000000         3.000000   \n",
       "25%             4.000000          4.000000         4.000000   \n",
       "50%             5.000000          5.000000         5.000000   \n",
       "75%             5.000000          5.000000         5.000000   \n",
       "max             5.000000          5.000000         5.000000   \n",
       "\n",
       "       Selecionar Pescados  Utilidade  Satisfação  \n",
       "count             9.000000   9.000000    9.000000  \n",
       "mean              4.444444   4.666667    4.888889  \n",
       "std               0.881917   0.500000    0.333333  \n",
       "min               3.000000   4.000000    4.000000  \n",
       "25%               4.000000   4.000000    5.000000  \n",
       "50%               5.000000   5.000000    5.000000  \n",
       "75%               5.000000   5.000000    5.000000  \n",
       "max               5.000000   5.000000    5.000000  "
      ]
     },
     "execution_count": 31,
     "metadata": {},
     "output_type": "execute_result"
    }
   ],
   "source": [
    "# Exibir informações estatísticas\n",
    "df.describe()"
   ]
  },
  {
   "cell_type": "markdown",
   "id": "27fac183",
   "metadata": {},
   "source": [
    "* No geral, obtivemos respostas entre 3 a 4 (Razoavelmente Fácil e Muito Fácil)"
   ]
  },
  {
   "cell_type": "markdown",
   "id": "1d8339ef",
   "metadata": {},
   "source": [
    "#### Facilidade em Acessar e Navegar"
   ]
  },
  {
   "cell_type": "code",
   "execution_count": 32,
   "id": "b58ba6e1",
   "metadata": {
    "scrolled": true
   },
   "outputs": [
    {
     "data": {
      "image/png": "[encoded data removed]",
      "text/plain": [
       "<Figure size 800x400 with 1 Axes>"
      ]
     },
     "metadata": {},
     "output_type": "display_data"
    }
   ],
   "source": [
    "sns.set_style(\"white\")\n",
    "sns.set_context(\"paper\") \n",
    "\n",
    "# Definindo a paleta de cores\n",
    "colors = [\"#001F3F\", \"#AAAAAA\", \"#334C66\", \"#7D99A8\", \"#D0D0D0\", \"#000000\"]\n",
    "sns.set_palette(sns.color_palette(colors))\n",
    "\n",
    "\n",
    "# Mapeando valores\n",
    "mapping = {\n",
    "    1: \"Muito difícil\",\n",
    "    2: \"Difícil\",\n",
    "    3: \"Razoavél\",\n",
    "    4: \"Fácil\",\n",
    "    5: \"Muito fácil\",\n",
    "}\n",
    "\n",
    "df['Acessar e Navegar'] = df['Acessar e Navegar'].replace(mapping)\n",
    "\n",
    "\n",
    "fig, ax = plt.subplots(figsize=(8, 4))\n",
    "count = df['Acessar e Navegar'].value_counts()\n",
    "sns.countplot(x='Acessar e Navegar', data=df, order=count.index)  # Aqui, estamos assegurando que os dados são plotados na ordem da contagem\n",
    "ax.set_ylabel('Quantidade')\n",
    "ax.set_title('Facilidade de Acesso/Navegação')\n",
    "\n",
    "# Rotação dos rótulos\n",
    "ax.set_xticklabels(count.index, rotation=45, ha='right')\n",
    "\n",
    "sns.despine(right=True)  # remove a borda direita para um visual mais limpo\n",
    "\n",
    "plt.tight_layout()\n",
    "plt.show()"
   ]
  },
  {
   "cell_type": "code",
   "execution_count": 41,
   "id": "bbe3104f",
   "metadata": {
    "scrolled": true
   },
   "outputs": [
    {
     "data": {
      "text/plain": [
       "Muito fácil    5\n",
       "Razoavél       2\n",
       "Fácil          2\n",
       "Name: Acessar e Navegar, dtype: int64"
      ]
     },
     "execution_count": 41,
     "metadata": {},
     "output_type": "execute_result"
    }
   ],
   "source": [
    "df['Acessar e Navegar'].value_counts()"
   ]
  },
  {
   "cell_type": "markdown",
   "id": "417ce606",
   "metadata": {},
   "source": [
    "Na pesquisa observacional foi observado que algumas mulheres obtiverem dificuldade em acessar o aplicativo, tais como, entender como abrir o navegador e inserir o caminho.\n",
    "Outras, por outro lado, tiveram facilidade, e uma vez explicado entenderam o processo.\n",
    "Um insight relevante é pensar em como facilitar ainda mais esse processo, por exemplo, salvando o atalho no celular de forma que com um único clique possa ser acessado. Enviando o link no grupo de whatsapp e afins."
   ]
  },
  {
   "cell_type": "markdown",
   "id": "d87fae36",
   "metadata": {},
   "source": [
    "#### Selecionar Fonte"
   ]
  },
  {
   "cell_type": "code",
   "execution_count": 43,
   "id": "4b7381ce",
   "metadata": {
    "scrolled": true
   },
   "outputs": [
    {
     "data": {
      "image/png": "[encoded data removed]",
      "text/plain": [
       "<Figure size 800x400 with 1 Axes>"
      ]
     },
     "metadata": {},
     "output_type": "display_data"
    }
   ],
   "source": [
    "sns.set_style(\"white\")\n",
    "sns.set_context(\"paper\") \n",
    "\n",
    "# Definindo a paleta de cores\n",
    "colors = [\"#001F3F\", \"#AAAAAA\", \"#334C66\", \"#7D99A8\", \"#D0D0D0\", \"#000000\"]\n",
    "sns.set_palette(sns.color_palette(colors))\n",
    "\n",
    "\n",
    "# Mapeando valores\n",
    "mapping = {\n",
    "    1: \"Muito difícil\",\n",
    "    2: \"Difícil\",\n",
    "    3: \"Razoavél\",\n",
    "    4: \"Fácil\",\n",
    "    5: \"Muito fácil\",\n",
    "}\n",
    "\n",
    "df['Selecionar Fonte'] = df['Selecionar Fonte'].replace(mapping)\n",
    "\n",
    "\n",
    "fig, ax = plt.subplots(figsize=(8, 4))\n",
    "count = df['Selecionar Fonte'].value_counts()\n",
    "sns.countplot(x='Selecionar Fonte', data=df, order=count.index)  # Aqui, estamos assegurando que os dados são plotados na ordem da contagem\n",
    "ax.set_ylabel('Quantidade')\n",
    "ax.set_title('Facilidade de Seleção de Fonte')\n",
    "\n",
    "# Rotação dos rótulos\n",
    "ax.set_xticklabels(count.index, rotation=45, ha='right')\n",
    "\n",
    "sns.despine(right=True)  # remove a borda direita para um visual mais limpo\n",
    "\n",
    "plt.tight_layout()\n",
    "plt.show()"
   ]
  },
  {
   "cell_type": "code",
   "execution_count": 44,
   "id": "bee1038a",
   "metadata": {
    "scrolled": false
   },
   "outputs": [
    {
     "data": {
      "text/plain": [
       "Muito fácil    6\n",
       "Razoavél       2\n",
       "Fácil          1\n",
       "Name: Selecionar Fonte, dtype: int64"
      ]
     },
     "execution_count": 44,
     "metadata": {},
     "output_type": "execute_result"
    }
   ],
   "source": [
    "df['Selecionar Fonte'].value_counts()"
   ]
  },
  {
   "cell_type": "markdown",
   "id": "26bfc311",
   "metadata": {},
   "source": [
    "De modo geral, foi observado facilidade nessa etapa."
   ]
  },
  {
   "cell_type": "markdown",
   "id": "e23da91f",
   "metadata": {},
   "source": [
    "#### Definir período"
   ]
  },
  {
   "cell_type": "code",
   "execution_count": 34,
   "id": "b70a7ae9",
   "metadata": {
    "scrolled": true
   },
   "outputs": [
    {
     "data": {
      "image/png": "[encoded data removed]",
      "text/plain": [
       "<Figure size 800x400 with 1 Axes>"
      ]
     },
     "metadata": {},
     "output_type": "display_data"
    }
   ],
   "source": [
    "sns.set_style(\"white\")\n",
    "sns.set_context(\"paper\") \n",
    "\n",
    "# Definindo a paleta de cores\n",
    "colors = [\"#001F3F\", \"#AAAAAA\", \"#334C66\", \"#7D99A8\", \"#D0D0D0\", \"#000000\"]\n",
    "sns.set_palette(sns.color_palette(colors))\n",
    "\n",
    "\n",
    "# Mapeando valores\n",
    "mapping = {\n",
    "    1: \"Muito difícil\",\n",
    "    2: \"Difícil\",\n",
    "    3: \"Razoavél\",\n",
    "    4: \"Fácil\",\n",
    "    5: \"Muito fácil\",\n",
    "}\n",
    "\n",
    "df['Definir Período'] = df['Definir Período'].replace(mapping)\n",
    "\n",
    "\n",
    "fig, ax = plt.subplots(figsize=(8, 4))\n",
    "count = df['Definir Período'].value_counts()\n",
    "sns.countplot(x='Definir Período', data=df, order=count.index)  # Aqui, estamos assegurando que os dados são plotados na ordem da contagem\n",
    "ax.set_ylabel('Quantidade')\n",
    "ax.set_title('Facilidade de Definir Período')\n",
    "\n",
    "# Rotação dos rótulos\n",
    "ax.set_xticklabels(count.index, rotation=45, ha='right')\n",
    "\n",
    "sns.despine(right=True)  # remove a borda direita para um visual mais limpo\n",
    "\n",
    "plt.tight_layout()\n",
    "plt.show()"
   ]
  },
  {
   "cell_type": "code",
   "execution_count": 45,
   "id": "170beabc",
   "metadata": {
    "scrolled": true
   },
   "outputs": [
    {
     "data": {
      "text/plain": [
       "Muito fácil    5\n",
       "Razoavél       2\n",
       "Fácil          2\n",
       "Name: Definir Período, dtype: int64"
      ]
     },
     "execution_count": 45,
     "metadata": {},
     "output_type": "execute_result"
    }
   ],
   "source": [
    "df['Definir Período'].value_counts()"
   ]
  },
  {
   "cell_type": "markdown",
   "id": "b2f55a24",
   "metadata": {},
   "source": [
    "Observei várias mulheres com dificuldade nessa etapa no celular. Ficou confuso as opções \"Período\" e \"Data\", e na opção \"Data\", várias tiveram dificuldade em clicar nas datas, por os números estarem muito próximo. Também tiveram dificuldade em entender que era necessário clicar em dois dias para obter um range. E ficaram confusas com o pop up de não há data. Há espaço para melhorar bastante aqui."
   ]
  },
  {
   "cell_type": "markdown",
   "id": "e5d3fc6f",
   "metadata": {},
   "source": [
    "#### Selecionar Pescados"
   ]
  },
  {
   "cell_type": "code",
   "execution_count": 35,
   "id": "e22cc1a6",
   "metadata": {
    "scrolled": true
   },
   "outputs": [
    {
     "data": {
      "image/png": "[encoded data removed]",
      "text/plain": [
       "<Figure size 800x400 with 1 Axes>"
      ]
     },
     "metadata": {},
     "output_type": "display_data"
    }
   ],
   "source": [
    "sns.set_style(\"white\")\n",
    "sns.set_context(\"paper\") \n",
    "\n",
    "# Definindo a paleta de cores\n",
    "colors = [\"#001F3F\", \"#AAAAAA\", \"#334C66\", \"#7D99A8\", \"#D0D0D0\", \"#000000\"]\n",
    "sns.set_palette(sns.color_palette(colors))\n",
    "\n",
    "\n",
    "# Mapeando valores\n",
    "mapping = {\n",
    "    1: \"Muito difícil\",\n",
    "    2: \"Difícil\",\n",
    "    3: \"Razoavél\",\n",
    "    4: \"Fácil\",\n",
    "    5: \"Muito fácil\",\n",
    "}\n",
    "\n",
    "df['Selecionar Pescados'] = df['Selecionar Pescados'].replace(mapping)\n",
    "\n",
    "\n",
    "fig, ax = plt.subplots(figsize=(8, 4))\n",
    "count = df['Selecionar Pescados'].value_counts()\n",
    "sns.countplot(x='Selecionar Pescados', data=df, order=count.index)  # Aqui, estamos assegurando que os dados são plotados na ordem da contagem\n",
    "ax.set_ylabel('Quantidade')\n",
    "ax.set_title('Facilidade de Selecionar Pescados')\n",
    "\n",
    "# Rotação dos rótulos\n",
    "ax.set_xticklabels(count.index, rotation=45, ha='right')\n",
    "\n",
    "sns.despine(right=True)  # remove a borda direita para um visual mais limpo\n",
    "\n",
    "plt.tight_layout()\n",
    "plt.show()"
   ]
  },
  {
   "cell_type": "code",
   "execution_count": 46,
   "id": "738ed6a5",
   "metadata": {
    "scrolled": true
   },
   "outputs": [
    {
     "data": {
      "text/plain": [
       "Muito fácil    6\n",
       "Razoavél       2\n",
       "Fácil          1\n",
       "Name: Selecionar Pescados, dtype: int64"
      ]
     },
     "execution_count": 46,
     "metadata": {},
     "output_type": "execute_result"
    }
   ],
   "source": [
    "df['Selecionar Pescados'].value_counts()"
   ]
  },
  {
   "cell_type": "markdown",
   "id": "049c029f",
   "metadata": {},
   "source": [
    "Observei algumas mulheres com dificuldade de descer a barra de rolagem para selecionar outros pescados. Algumas conseguiram, outras não."
   ]
  },
  {
   "cell_type": "markdown",
   "id": "32d6326d",
   "metadata": {},
   "source": [
    "### Utilidade na funcionalidade pesquisar peixes"
   ]
  },
  {
   "cell_type": "code",
   "execution_count": 36,
   "id": "190a5442",
   "metadata": {
    "scrolled": true
   },
   "outputs": [
    {
     "data": {
      "image/png": "[encoded data removed]",
      "text/plain": [
       "<Figure size 800x400 with 1 Axes>"
      ]
     },
     "metadata": {},
     "output_type": "display_data"
    }
   ],
   "source": [
    "sns.set_style(\"white\")\n",
    "sns.set_context(\"paper\") \n",
    "\n",
    "# Definindo a paleta de cores\n",
    "colors = [\"#001F3F\", \"#AAAAAA\", \"#334C66\", \"#7D99A8\", \"#D0D0D0\", \"#000000\"]\n",
    "sns.set_palette(sns.color_palette(colors))\n",
    "\n",
    "\n",
    "# Mapeando valores\n",
    "mapping = {\n",
    "    1: \"Pouco útil\",\n",
    "    3: \"Razoavél\",\n",
    "    4: \"Útil\",\n",
    "    5: \"Muito útil\",\n",
    "}\n",
    "\n",
    "df['Utilidade'] = df['Utilidade'].replace(mapping)\n",
    "\n",
    "\n",
    "fig, ax = plt.subplots(figsize=(8, 4))\n",
    "count = df['Utilidade'].value_counts()\n",
    "sns.countplot(x='Utilidade', data=df, order=count.index)  # Aqui, estamos assegurando que os dados são plotados na ordem da contagem\n",
    "ax.set_ylabel('Quantidade')\n",
    "ax.set_title('Utilidade em Pesquisar Pescados')\n",
    "\n",
    "# Rotação dos rótulos\n",
    "ax.set_xticklabels(count.index, rotation=45, ha='right')\n",
    "\n",
    "sns.despine(right=True)  # remove a borda direita para um visual mais limpo\n",
    "\n",
    "plt.tight_layout()\n",
    "plt.show()"
   ]
  },
  {
   "cell_type": "code",
   "execution_count": 47,
   "id": "422c112b",
   "metadata": {},
   "outputs": [
    {
     "data": {
      "text/plain": [
       "Muito útil    6\n",
       "Útil          3\n",
       "Name: Utilidade, dtype: int64"
      ]
     },
     "execution_count": 47,
     "metadata": {},
     "output_type": "execute_result"
    }
   ],
   "source": [
    "df['Utilidade'].value_counts()"
   ]
  },
  {
   "cell_type": "markdown",
   "id": "82efe16f",
   "metadata": {},
   "source": [
    "Conseguiram entender muito bem quais os peixes apenas pelo nome."
   ]
  },
  {
   "cell_type": "markdown",
   "id": "a51ef6ea",
   "metadata": {},
   "source": [
    "#### Satisfação"
   ]
  },
  {
   "cell_type": "code",
   "execution_count": 38,
   "id": "2986dba2",
   "metadata": {
    "scrolled": true
   },
   "outputs": [
    {
     "data": {
      "image/png": "[encoded data removed]",
      "text/plain": [
       "<Figure size 800x400 with 1 Axes>"
      ]
     },
     "metadata": {},
     "output_type": "display_data"
    }
   ],
   "source": [
    "sns.set_style(\"white\")\n",
    "sns.set_context(\"paper\") \n",
    "\n",
    "# Definindo a paleta de cores\n",
    "colors = [\"#001F3F\", \"#AAAAAA\", \"#334C66\", \"#7D99A8\", \"#D0D0D0\", \"#000000\"]\n",
    "sns.set_palette(sns.color_palette(colors))\n",
    "\n",
    "# Mapeando valores\n",
    "mapping = {\n",
    "\n",
    "    4: \"Satisfeita\",\n",
    "    5: \"Muito satisfeita\",\n",
    "}\n",
    "\n",
    "df['Satisfação'] = df['Satisfação'].replace(mapping)\n",
    "\n",
    "\n",
    "fig, ax = plt.subplots(figsize=(8, 4))\n",
    "count = df['Satisfação'].value_counts()\n",
    "sns.countplot(x='Satisfação', data=df, order=count.index)  # Aqui, estamos assegurando que os dados são plotados na ordem da contagem\n",
    "ax.set_ylabel('Quantidade')\n",
    "ax.set_title('Satisfação')\n",
    "\n",
    "# Rotação dos rótulos\n",
    "ax.set_xticklabels(count.index, rotation=45, ha='right')\n",
    "\n",
    "sns.despine(right=True)  # remove a borda direita para um visual mais limpo\n",
    "\n",
    "plt.tight_layout()\n",
    "plt.show()"
   ]
  },
  {
   "cell_type": "code",
   "execution_count": 48,
   "id": "6025aa97",
   "metadata": {},
   "outputs": [
    {
     "data": {
      "text/plain": [
       "Muito satisfeita    8\n",
       "Satisfeita          1\n",
       "Name: Satisfação, dtype: int64"
      ]
     },
     "execution_count": 48,
     "metadata": {},
     "output_type": "execute_result"
    }
   ],
   "source": [
    "df['Satisfação'].value_counts()"
   ]
  },
  {
   "cell_type": "markdown",
   "id": "b279c304",
   "metadata": {},
   "source": [
    "#### Recomendação"
   ]
  },
  {
   "cell_type": "code",
   "execution_count": 39,
   "id": "82e8d789",
   "metadata": {
    "scrolled": true
   },
   "outputs": [
    {
     "data": {
      "image/png": "[encoded data removed]",
      "text/plain": [
       "<Figure size 800x400 with 1 Axes>"
      ]
     },
     "metadata": {},
     "output_type": "display_data"
    }
   ],
   "source": [
    "sns.set_style(\"white\")\n",
    "sns.set_context(\"paper\") \n",
    "\n",
    "# Definindo a paleta de cores\n",
    "colors = [\"#001F3F\", \"#AAAAAA\", \"#334C66\", \"#7D99A8\", \"#D0D0D0\", \"#000000\"]\n",
    "sns.set_palette(sns.color_palette(colors))\n",
    "\n",
    "\n",
    "fig, ax = plt.subplots(figsize=(8, 4))\n",
    "count = df['Recomendação'].value_counts()\n",
    "sns.countplot(x='Recomendação', data=df, order=count.index)  # Aqui, estamos assegurando que os dados são plotados na ordem da contagem\n",
    "ax.set_ylabel('Quantidade')\n",
    "ax.set_title('Recomendação')\n",
    "\n",
    "# Rotação dos rótulos\n",
    "ax.set_xticklabels(count.index, rotation=45, ha='right')\n",
    "\n",
    "sns.despine(right=True)  # remove a borda direita para um visual mais limpo\n",
    "\n",
    "plt.tight_layout()\n",
    "plt.show()"
   ]
  },
  {
   "cell_type": "markdown",
   "id": "ad531b9c",
   "metadata": {},
   "source": [
    "Todas as mulheres afirmaram que recomendariam o aplicativo."
   ]
  },
  {
   "cell_type": "markdown",
   "id": "bfb31f3c",
   "metadata": {},
   "source": [
    "### Dados qualitativos"
   ]
  },
  {
   "cell_type": "markdown",
   "id": "a90cf292",
   "metadata": {},
   "source": [
    "Obtivemos os seguintes pontos:\n",
    "* Os preços dos peixes estavam abaixo do habitual, não refletindo a realidade. Isso pode ser porque o valor é de varejo, o que não ficou claro.\n",
    "* Algumas tiveram dificuldade para clicar em escolher o peixe.\n",
    "* Vários depoimentos positivos, no geral, gostaram da proposta e pretendem usar.\n"
   ]
  }
 ],
 "metadata": {
  "kernelspec": {
   "display_name": "Python 3 (ipykernel)",
   "language": "python",
   "name": "python3"
  },
  "language_info": {
   "codemirror_mode": {
    "name": "ipython",
    "version": 3
   },
   "file_extension": ".py",
   "mimetype": "text/x-python",
   "name": "python",
   "nbconvert_exporter": "python",
   "pygments_lexer": "ipython3",
   "version": "3.10.11"
  }
 },
 "nbformat": 4,
 "nbformat_minor": 5
}
